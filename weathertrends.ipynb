{
  "nbformat": 4,
  "nbformat_minor": 0,
  "metadata": {
    "colab": {
      "name": "weathertrends.ipynb",
      "provenance": [],
      "collapsed_sections": [],
      "authorship_tag": "ABX9TyMppRLQttIuaRRMmaWeqrLV",
      "include_colab_link": true
    },
    "kernelspec": {
      "name": "python3",
      "display_name": "Python 3"
    }
  },
  "cells": [
    {
      "cell_type": "markdown",
      "metadata": {
        "id": "view-in-github",
        "colab_type": "text"
      },
      "source": [
        "<a href=\"https://colab.research.google.com/github/ysh2272/learningstatistics/blob/master/weathertrends.ipynb\" target=\"_parent\"><img src=\"https://colab.research.google.com/assets/colab-badge.svg\" alt=\"Open In Colab\"/></a>"
      ]
    },
    {
      "cell_type": "markdown",
      "metadata": {
        "id": "1yNecCgi-_TY",
        "colab_type": "text"
      },
      "source": [
        "#1. Import Data\n",
        "\n",
        "a) CSV from URL\n",
        "\n",
        "b) Type Correction\n",
        "\n",
        "c) Set Index\n",
        "\n",
        "**Summary:**\n",
        "\n",
        "* Name\n",
        "* Count of Records\n",
        "* Column Names"
      ]
    },
    {
      "cell_type": "code",
      "metadata": {
        "id": "riHOx8MiLvxb",
        "colab_type": "code",
        "outputId": "4ec8839e-355c-4530-86c1-1da7f0c33ebb",
        "colab": {
          "base_uri": "https://localhost:8080/",
          "height": 51
        }
      },
      "source": [
        "import numpy as np\n",
        "import pandas as pd\n",
        "import matplotlib.pyplot as plt\n",
        "\n",
        "worldurl = 'https://raw.githubusercontent.com/ysh2272/learningstatistics/master/global.csv'\n",
        "worlddf = pd.read_csv(worldurl, header=0)\n",
        "worlddf.dtypes\n",
        "worlddf['year'].astype(int) \n",
        "worlddf['avg_temp'].astype(float)\n",
        "\n",
        "nyurl = 'https://raw.githubusercontent.com/ysh2272/learningstatistics/master/newyork.csv'\n",
        "nydf = pd.read_csv(nyurl, header=0)\n",
        "nydf['year'].astype(int)\n",
        "nydf['avg_temp'].astype(float)\n",
        "\n",
        "print('worlddf has {} records of avg_temp along year'.format(len(worlddf)))\n",
        "print('nydf has {} records of avg_temp along year'.format(len(nydf)))"
      ],
      "execution_count": 32,
      "outputs": [
        {
          "output_type": "stream",
          "text": [
            "worlddf has 266 records of avg_temp along year\n",
            "nydf has 271 records of avg_temp along year\n"
          ],
          "name": "stdout"
        }
      ]
    },
    {
      "cell_type": "markdown",
      "metadata": {
        "id": "jPiVfYhiSw1q",
        "colab_type": "text"
      },
      "source": [
        "#2. Data Wrangling\n",
        "\n",
        "a) Check Missing Records\n",
        "\n",
        "b) Check Duplicate Records\n",
        "\n",
        "c) Index Comparison\n",
        "\n",
        "d) Outer JOIN\n",
        "\n",
        "**Summary:**\n",
        "\n",
        "* Name of DataFrame\n",
        "* Name and Range of Index\n",
        "* Name of Columns \n"
      ]
    },
    {
      "cell_type": "code",
      "metadata": {
        "id": "VIYUfX7qJ3BK",
        "colab_type": "code",
        "colab": {
          "base_uri": "https://localhost:8080/",
          "height": 204
        },
        "outputId": "7974f307-e232-4dda-9774-117faa3709e5"
      },
      "source": [
        "newyork = nydf['year']\n",
        "world = worlddf['year']\n",
        "nyyears =  [i for i in range(newyork.min(),newyork.max())]\n",
        "worldyears =  [i for i in range(world.min(),world.max())]\n",
        "worldmissing = set(worldyears)-set(world)\n",
        "nymissing = set(nyyears)-set(newyork)\n",
        "print('Missing Records ({} in worlddf, {} in nydf)'.format(len(worldmissing),len(nymissing)))\n",
        "\n",
        "nyduplicate = newyork.duplicated()\n",
        "worldduplicate = world.duplicated()\n",
        "print('Duplicate Records ({} in worlddf, {} in nydf)'.format(sum(worldduplicate),sum(nyduplicate)))\n",
        "\n",
        "ny_world = set(nyyears)-set(worldyears)\n",
        "print('nydf has {} more years than worlddf: {}'.format(len(ny_world),ny_world))\n",
        "world_ny = set(worldyears)-set(nyyears)\n",
        "print('worlddf has {} more years than nydf: {}'.format(len(world_ny),world_ny))\n",
        "\n",
        "outerdf = nydf.merge(worlddf, on='year', how='outer')\n",
        "outerdf.head()\n",
        "outerdf.rename(columns={'avg_temp_x':'newyork','avg_temp_y':'world'},inplace=True) \n",
        "outerdf.set_index('year',inplace=True)\n",
        "print(outerdf.head())"
      ],
      "execution_count": 40,
      "outputs": [
        {
          "output_type": "stream",
          "text": [
            "Missing Records (0 in worlddf, 0 in nydf)\n",
            "Duplicate Records (0 in worlddf, 0 in nydf)\n",
            "nydf has 7 more years than worlddf: {1743, 1744, 1745, 1746, 1747, 1748, 1749}\n",
            "worlddf has 2 more years than nydf: {2013, 2014}\n",
            "      newyork  world\n",
            "year                \n",
            "1743     3.26    NaN\n",
            "1744    11.66    NaN\n",
            "1745     1.13    NaN\n",
            "1746      NaN    NaN\n",
            "1747      NaN    NaN\n"
          ],
          "name": "stdout"
        }
      ]
    },
    {
      "cell_type": "markdown",
      "metadata": {
        "id": "wcP3iV5QpZxC",
        "colab_type": "text"
      },
      "source": [
        "#3. Missing Data Handling\n",
        "\n",
        "a) Null Index Location\n",
        "\n",
        "b) Null Type Checking\n",
        "\n",
        "c) Listwise Deletion\n",
        "\n",
        "d) Pairwise Deletion\n",
        "\n",
        "**Summary:**\n",
        "\n",
        "* Count Records \n",
        "* Count and Location of NaNs"
      ]
    },
    {
      "cell_type": "code",
      "metadata": {
        "id": "7fdGcVg9Jcfh",
        "colab_type": "code",
        "outputId": "d18a2939-c95c-46c1-bb3e-a8f034ed345a",
        "colab": {
          "base_uri": "https://localhost:8080/",
          "height": 119
        }
      },
      "source": [
        "newyork = outerdf['newyork']\n",
        "nynull = newyork[newyork.isnull()]\n",
        "nynullindex = nynull.index.to_list()\n",
        "print('{} {} NaNs at {} in newyork'.format(len(nynull),type(nynull.iloc[0]),nynullindex))\n",
        "\n",
        "world = outerdf['world']\n",
        "worldnull = world[world.isnull()]\n",
        "worldnullindex = worldnull.index.to_list()\n",
        "print('{} {} NaNs at {} in world'.format(len(worldnull),type(worldnull.iloc[0]),worldnullindex))\n",
        "\n",
        "listwise = outerdf.drop(worldnullindex)\n",
        "print('listwise deletion at {}'.format(worldnullindex))\n",
        "world = listwise['world']\n",
        "\n",
        "pairwiseindex = listwise.index[-2:].to_list()\n",
        "pairwise = listwise['newyork'].iloc[:-2]\n",
        "print('pairwise deletion at {} in newyork'.format(pairwiseindex))\n",
        "newyork = pairwise\n",
        "newyorkindex = listwise['newyork'].index[:-2]\n",
        "\n",
        "nynullindex = newyork[newyork.isnull()].index.to_list()\n",
        "worldnullindex = world[world.isnull()].index.to_list()\n",
        "print('{} records and {} NaN in newyork: {}'.format(len(newyork),len(nynullindex),nynullindex))\n",
        "print('{} records and {} NaN in world'.format(len(world),len(worldnullindex)))"
      ],
      "execution_count": 44,
      "outputs": [
        {
          "output_type": "stream",
          "text": [
            "7 <class 'numpy.float64'> NaNs at [1746, 1747, 1748, 1749, 1780, 2014, 2015] in newyork\n",
            "7 <class 'numpy.float64'> NaNs at [1743, 1744, 1745, 1746, 1747, 1748, 1749] in world\n",
            "listwise deletion at [1743, 1744, 1745, 1746, 1747, 1748, 1749]\n",
            "pairwise deletion at [2014, 2015] in newyork\n",
            "264 records and 1 NaN in newyork: [1780]\n",
            "266 records and 0 NaN in world\n"
          ],
          "name": "stdout"
        }
      ]
    },
    {
      "cell_type": "markdown",
      "metadata": {
        "id": "R5OtO83wS2TU",
        "colab_type": "text"
      },
      "source": [
        "#4. Exploratory Data Analysis\n",
        "\n",
        "a) Data Visualization\n",
        "\n",
        "b) Variation Analysis\n",
        "\n",
        "c) Outlier Analysis\n",
        "\n",
        "d) Imputation\n",
        "\n",
        "* Missing Data\n",
        "* Outliers\n",
        "\n",
        "**Summary**\n",
        "\n",
        "* Count and Location of Imputed Missing Data\n",
        "* Count and Location of Imputed Outliers\n",
        "* Distribution w/ Statistics\n"
      ]
    },
    {
      "cell_type": "code",
      "metadata": {
        "id": "FAfTyfehQPww",
        "colab_type": "code",
        "colab": {}
      },
      "source": [
        ""
      ],
      "execution_count": 0,
      "outputs": []
    }
  ]
}