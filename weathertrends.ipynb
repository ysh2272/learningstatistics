{
  "nbformat": 4,
  "nbformat_minor": 0,
  "metadata": {
    "colab": {
      "name": "weathertrends.ipynb",
      "provenance": [],
      "collapsed_sections": [],
      "authorship_tag": "ABX9TyPJk+AjFWxe/e8ogCrp8eSj",
      "include_colab_link": true
    },
    "kernelspec": {
      "name": "python3",
      "display_name": "Python 3"
    }
  },
  "cells": [
    {
      "cell_type": "markdown",
      "metadata": {
        "id": "view-in-github",
        "colab_type": "text"
      },
      "source": [
        "<a href=\"https://colab.research.google.com/github/ysh2272/learningstatistics/blob/master/weathertrends.ipynb\" target=\"_parent\"><img src=\"https://colab.research.google.com/assets/colab-badge.svg\" alt=\"Open In Colab\"/></a>"
      ]
    },
    {
      "cell_type": "markdown",
      "metadata": {
        "id": "1yNecCgi-_TY",
        "colab_type": "text"
      },
      "source": [
        "#1. Import Data\n",
        "\n",
        "**1a. CSV from URL**\n",
        "\n",
        "**1b. Type Correction**\n",
        "\n",
        "**1c. Set Index**\n",
        "\n",
        "**Summary:**\n",
        "\n",
        "* Name\n",
        "* Count of Records\n",
        "* Column Names"
      ]
    },
    {
      "cell_type": "code",
      "metadata": {
        "id": "riHOx8MiLvxb",
        "colab_type": "code",
        "outputId": "28be5fbd-e099-44ee-f74f-02ac112ad662",
        "colab": {
          "base_uri": "https://localhost:8080/",
          "height": 52
        }
      },
      "source": [
        "import numpy as np\n",
        "import pandas as pd\n",
        "import matplotlib.pyplot as plt\n",
        "\n",
        "globalurl = 'https://raw.githubusercontent.com/ysh2272/learningstatistics/master/global.csv'\n",
        "globaldf = pd.read_csv(globalurl, header=0)\n",
        "globaldf.dtypes\n",
        "yearglobal = globaldf['year'].astype(int) \n",
        "tempglobal = globaldf['avg_temp'].astype(float)\n",
        "globaldf.set_index('year',inplace=True)\n",
        "\n",
        "nyurl = 'https://raw.githubusercontent.com/ysh2272/learningstatistics/master/newyork.csv'\n",
        "nydf = pd.read_csv(nyurl, header=0)\n",
        "yearny = nydf['year'].astype(int)\n",
        "tempny = nydf['avg_temp'].astype(float)\n",
        "nydf.set_index('year',inplace=True)\n",
        "\n",
        "print('globaldf has {} records of year, global'.format(len(globaldf)))\n",
        "print('nydf has {} records of year, newyork'.format(len(nydf)))"
      ],
      "execution_count": 33,
      "outputs": [
        {
          "output_type": "stream",
          "text": [
            "globaldf has 266 records of year, global\n",
            "nydf has 271 records of year, newyork\n"
          ],
          "name": "stdout"
        }
      ]
    },
    {
      "cell_type": "markdown",
      "metadata": {
        "id": "jPiVfYhiSw1q",
        "colab_type": "text"
      },
      "source": [
        "#2. Data Wrangling\n",
        "\n",
        "**2a. Check Missing Records**\n",
        "\n",
        "**2b. Check Duplicate Records**\n",
        "\n",
        "**2c. Index Comparison**\n",
        "\n",
        "**2d. Outer JOIN**\n",
        "\n",
        "**2e. Assign Index**\n",
        "\n",
        "**Summary:**\n",
        "\n",
        "* Name of DataFrame\n",
        "* Name and Range of Index\n",
        "* Name of Columns \n"
      ]
    },
    {
      "cell_type": "code",
      "metadata": {
        "id": "Slmi7nMforni",
        "colab_type": "code",
        "outputId": "649e0d09-2563-49fa-d27f-ea7ec64c5d1a",
        "colab": {
          "base_uri": "https://localhost:8080/",
          "height": 106
        }
      },
      "source": [
        "newyork = nydf['year']\n",
        "world = worlddf['year']\n",
        "\n",
        "nyyears =  [i for i in range(newyork.min(),newyork.max())]\n",
        "worldyears =  [i for i in range(world.min(),world.max())]\n",
        "worldmissing = set(worldyears)-set(world)\n",
        "nymissing = set(nyyears)-set(newyork)\n",
        "print('Missing Records ({} in worlddf, {} in nydf)'.format(len(worldmissing),len(nymissing)))\n",
        "\n",
        "nyduplicate = newyork.duplicated()\n",
        "worldduplicate = world.duplicated()\n",
        "print('Duplicate Records ({} in worlddf, {} in nydf)'.format(sum(worldduplicate),sum(nyduplicate)))\n",
        "\n",
        "ny_world = set(nyyears)-set(worldyears)\n",
        "print('nydf has {} more years than worlddf: {}'.format(len(ny_world),ny_world))\n",
        "world_ny = set(worldyears)-set(nyyears)\n",
        "print('worlddf has {} more years than nydf: {}'.format(len(world_ny),world_ny))\n",
        "\n",
        "outerdf = nydf.merge(worlddf, how='outer') \n",
        "outerdf.set_index('year',inplace=True)\n",
        "\n",
        "print('outerdf has {} records along year index for newyork, world'.format(len(outerdf)))"
      ],
      "execution_count": 0,
      "outputs": [
        {
          "output_type": "stream",
          "text": [
            "Missing Records (0 in worlddf, 0 in nydf)\n",
            "Duplicate Records (0 in worlddf, 0 in nydf)\n",
            "nydf has 7 more years than worlddf: {1743, 1744, 1745, 1746, 1747, 1748, 1749}\n",
            "worlddf has 2 more years than nydf: {2013, 2014}\n",
            "outerdf has 273 records along year index for newyork, world\n"
          ],
          "name": "stdout"
        }
      ]
    },
    {
      "cell_type": "markdown",
      "metadata": {
        "id": "wcP3iV5QpZxC",
        "colab_type": "text"
      },
      "source": [
        "#3. Missing Data\n",
        "\n",
        "**3a. Null Index Location**\n",
        "\n",
        "**3b. Null Type Checking**\n",
        "\n",
        "**3c. Listwise Deletion**\n",
        "\n",
        "**3d. Pairwise Deletion**\n",
        "\n",
        "**Summary:**\n",
        "\n",
        "* Count Records \n",
        "* Count NaN"
      ]
    },
    {
      "cell_type": "code",
      "metadata": {
        "id": "7fdGcVg9Jcfh",
        "colab_type": "code",
        "outputId": "a1ed4180-c019-454e-a2cc-4c3321109005",
        "colab": {
          "base_uri": "https://localhost:8080/",
          "height": 144
        }
      },
      "source": [
        "newyork = outerdf['newyork']\n",
        "world = outerdf['world']\n",
        "\n",
        "nynull = newyork[newyork.isnull()]\n",
        "nynullindex = nynull.index.to_list()\n",
        "print('{} {} NaNs at {} in nydf'.format(len(nynull),type(nynull.iloc[0]),nynullindex))\n",
        "\n",
        "worldnull = world[world.isnull()]\n",
        "worldnullindex = worldnull.index.to_list()\n",
        "print('{} {} NaNs at {} in worlddf'.format(len(worldnull),type(worldnull.iloc[0]),worldnullindex))\n",
        "\n",
        "listwise = outerdf.drop(worldnullindex)\n",
        "print('listwise deletion at {}'.format(worldnullindex))\n",
        "world = listwise['world']\n",
        "\n",
        "pairwiseindex = listwise.index[-2:].to_list()\n",
        "pairwise = listwise['newyork'].iloc[:-2]\n",
        "print('pairwise deletion at {} in newyork'.format(pairwiseindex))\n",
        "newyork = pairwise\n",
        "newyorkindex = listwise['newyork'].index[:-2]\n",
        "\n",
        "nynullindex = newyork[newyork.isnull()].index.to_list()\n",
        "worldnullindex = world[world.isnull()].index.to_list()\n",
        "print('{} records and {} NaN in newyork: {}'.format(len(newyork),len(nynullindex),nynullindex))\n",
        "print('{} records and {} NaN in world'.format(len(world),len(worldnullindex)))"
      ],
      "execution_count": 0,
      "outputs": [
        {
          "output_type": "stream",
          "text": [
            "7 <class 'numpy.float64'> NaNs at [1746, 1747, 1748, 1749, 1780, 2014, 2015] in nydf\n",
            "7 <class 'numpy.float64'> NaNs at [1743, 1744, 1745, 1746, 1747, 1748, 1749] in worlddf\n",
            "listwise deletion at [1743, 1744, 1745, 1746, 1747, 1748, 1749]\n",
            "pairwise deletion at [2014, 2015] in newyork\n",
            "264 records and 1 NaN in newyork: [1780]\n",
            "266 records and 0 NaN in world\n"
          ],
          "name": "stdout"
        }
      ]
    },
    {
      "cell_type": "markdown",
      "metadata": {
        "id": "R5OtO83wS2TU",
        "colab_type": "text"
      },
      "source": [
        "#4. Exploratory Data Analysis\n",
        "\n",
        "**4a. Data Visualization** \n",
        "\n",
        "**4b. Variation Analysis**\n",
        "\n",
        "**4c. Outlier Analysis**\n",
        "\n",
        "**Summary**\n",
        "\n",
        "* Outlier Locations\n"
      ]
    }
  ]
}