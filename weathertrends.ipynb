{
  "nbformat": 4,
  "nbformat_minor": 0,
  "metadata": {
    "colab": {
      "name": "weathertrends.ipynb",
      "provenance": [],
      "collapsed_sections": [],
      "authorship_tag": "ABX9TyOGku/XylHwBswAfpA3MyI8",
      "include_colab_link": true
    },
    "kernelspec": {
      "name": "python3",
      "display_name": "Python 3"
    }
  },
  "cells": [
    {
      "cell_type": "markdown",
      "metadata": {
        "id": "view-in-github",
        "colab_type": "text"
      },
      "source": [
        "<a href=\"https://colab.research.google.com/github/ysh2272/learningstatistics/blob/master/weathertrends.ipynb\" target=\"_parent\"><img src=\"https://colab.research.google.com/assets/colab-badge.svg\" alt=\"Open In Colab\"/></a>"
      ]
    },
    {
      "cell_type": "code",
      "metadata": {
        "id": "riHOx8MiLvxb",
        "colab_type": "code",
        "colab": {}
      },
      "source": [
        "import numpy as np\n",
        "import pandas as pd\n",
        "import matplotlib.pyplot as plt"
      ],
      "execution_count": 0,
      "outputs": []
    },
    {
      "cell_type": "code",
      "metadata": {
        "id": "EF4Fju8QI-Em",
        "colab_type": "code",
        "outputId": "8e38b669-f342-417d-fdc6-6bceefec4326",
        "colab": {
          "base_uri": "https://localhost:8080/",
          "height": 87
        }
      },
      "source": [
        "globalurl = 'https://raw.githubusercontent.com/ysh2272/learningstatistics/master/global.csv'\n",
        "globaldf = pd.read_csv(globalurl, names = ['YEAR','global'])\n",
        "# globaldf.head() \n",
        "# extra column names in first row\n",
        "\n",
        "globaldf = globaldf.iloc[1:] # removes first row\n",
        "globaldf = globaldf.sort_values('YEAR')\n",
        "globaldf.head()\n",
        "# globaldf.dtypes\n",
        "# incorrect data type (object)\n",
        "\n",
        "globaldf['YEAR'] = globaldf['YEAR'].astype(int) # changes data type\n",
        "globaldf['global'] = globaldf['global'].astype(float)\n",
        "print(globaldf.dtypes)\n",
        "print('{} rows and {} nulls in global'.format(globaldf.size, globaldf['global'].isnull().sum()))"
      ],
      "execution_count": 0,
      "outputs": [
        {
          "output_type": "stream",
          "text": [
            "YEAR        int64\n",
            "global    float64\n",
            "dtype: object\n",
            "532 rows and 0 nulls in global\n"
          ],
          "name": "stdout"
        }
      ]
    },
    {
      "cell_type": "code",
      "metadata": {
        "id": "CJ4Me-eaI4lY",
        "colab_type": "code",
        "outputId": "80870ff0-e2d0-4e3f-858e-55b030a18d19",
        "colab": {
          "base_uri": "https://localhost:8080/",
          "height": 87
        }
      },
      "source": [
        "newyorkurl = 'https://raw.githubusercontent.com/ysh2272/learningstatistics/master/newyork.csv'\n",
        "newyorkdf = pd.read_csv(newyorkurl, names = ['YEAR','newyork'])\n",
        "newyorkdf = newyorkdf.iloc[1:]\n",
        "newyorkdf = newyorkdf.sort_values('YEAR')\n",
        "newyorkdf['YEAR'] = newyorkdf['YEAR'].astype(int)\n",
        "newyorkdf['newyork'] = newyorkdf['newyork'].astype(float)\n",
        "print(newyorkdf.dtypes)\n",
        "print('{} rows and {} nulls in newyork'.format(newyorkdf.size, newyorkdf['newyork'].isnull().sum()))"
      ],
      "execution_count": 0,
      "outputs": [
        {
          "output_type": "stream",
          "text": [
            "YEAR         int64\n",
            "newyork    float64\n",
            "dtype: object\n",
            "542 rows and 5 nulls in newyork\n"
          ],
          "name": "stdout"
        }
      ]
    },
    {
      "cell_type": "code",
      "metadata": {
        "id": "Slmi7nMforni",
        "colab_type": "code",
        "outputId": "59dc24ab-10cb-4f48-b82f-be44a974810f",
        "colab": {
          "base_uri": "https://localhost:8080/",
          "height": 297
        }
      },
      "source": [
        "# locate nulls in newyorkdf\n",
        "newyorkdf_null = newyorkdf[newyorkdf.isnull().any(axis=1)] ##\n",
        "print(newyorkdf_null)\n",
        "\n",
        "# locate row discrepancies\n",
        "years = [year for year in range (1746, 2013+1)]\n",
        "print(set(years)-set(globaldf_sort['YEAR'].array))\n",
        "#print(set(years)-set(newyorkdf_sort['YEAR'].array))\n",
        "\n",
        "# Inner JOIN\n",
        "innerjoindf = pd.merge(newyorkdf_sort, globaldf, how='inner', on = 'YEAR')\n",
        "print(innerjoindf.describe())"
      ],
      "execution_count": 73,
      "outputs": [
        {
          "output_type": "stream",
          "text": [
            "    YEAR  newyork\n",
            "4   1746      NaN\n",
            "5   1747      NaN\n",
            "6   1748      NaN\n",
            "7   1749      NaN\n",
            "38  1780      NaN\n",
            "{1746, 1747, 1748, 1749}\n",
            "              YEAR     newyork      global\n",
            "count   264.000000  263.000000  264.000000\n",
            "mean   1881.500000    9.486882    8.359394\n",
            "std      76.354437    1.099282    0.575184\n",
            "min    1750.000000    0.250000    5.780000\n",
            "25%    1815.750000    9.070000    8.077500\n",
            "50%    1881.500000    9.550000    8.365000\n",
            "75%    1947.250000   10.025000    8.700000\n",
            "max    2013.000000   12.160000    9.730000\n"
          ],
          "name": "stdout"
        }
      ]
    }
  ]
}