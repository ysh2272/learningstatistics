{
  "nbformat": 4,
  "nbformat_minor": 0,
  "metadata": {
    "colab": {
      "name": "weathertrends.ipynb",
      "provenance": [],
      "collapsed_sections": [],
      "authorship_tag": "ABX9TyNBOGZw5IG/wxNj2sot+5Hs",
      "include_colab_link": true
    },
    "kernelspec": {
      "name": "python3",
      "display_name": "Python 3"
    }
  },
  "cells": [
    {
      "cell_type": "markdown",
      "metadata": {
        "id": "view-in-github",
        "colab_type": "text"
      },
      "source": [
        "<a href=\"https://colab.research.google.com/github/ysh2272/learningstatistics/blob/master/weathertrends.ipynb\" target=\"_parent\"><img src=\"https://colab.research.google.com/assets/colab-badge.svg\" alt=\"Open In Colab\"/></a>"
      ]
    },
    {
      "cell_type": "markdown",
      "metadata": {
        "id": "-TW1Ov0-bU_Q",
        "colab_type": "text"
      },
      "source": [
        "#0. Importing Data\n",
        "\n",
        "* SQL \n",
        "\n",
        "#1. Data Wrangling\n",
        "* Pandas"
      ]
    },
    {
      "cell_type": "code",
      "metadata": {
        "id": "riHOx8MiLvxb",
        "colab_type": "code",
        "outputId": "8cda3310-b612-4542-bc82-20b1a2d7ba88",
        "colab": {
          "base_uri": "https://localhost:8080/",
          "height": 52
        }
      },
      "source": [
        "import numpy as np\n",
        "import pandas as pd\n",
        "import matplotlib.pyplot as plt\n",
        "\n",
        "worldurl = 'https://raw.githubusercontent.com/ysh2272/learningstatistics/master/global.csv'\n",
        "worlddf = pd.read_csv(worldurl, names = ['year','world']) ## column names for error\n",
        "# worlddf.head()\n",
        "# extra column names in first row\n",
        "\n",
        "worlddf = worlddf.iloc[1:] ## dataset splicing\n",
        "# worlddf.dtypes\n",
        "# incorrect data type (object)\n",
        "\n",
        "worlddf['year'] = worlddf['year'].astype(int) ## changes data type\n",
        "worlddf['world'] = worlddf['world'].astype(float)\n",
        "yearnullcount = worlddf['year'].isnull().sum() ## null counter, method chaining\n",
        "worldnullcount = worlddf['world'].isnull().sum()\n",
        "print('{} rows in worlddf ({} NaN in year, {} NaN in world)'.format(worlddf['year'].size, yearnullcount, worldnullcount))\n",
        "\n",
        "nyurl = 'https://raw.githubusercontent.com/ysh2272/learningstatistics/master/newyork.csv'\n",
        "nydf = pd.read_csv(nyurl, names = ['year','newyork']).iloc[1:]\n",
        "nydf['year'] = nydf['year'].astype(int)\n",
        "nydf['newyork'] = nydf['newyork'].astype(float)\n",
        "yearnullcount = nydf['year'].isnull().sum()\n",
        "nynullcount = nydf['newyork'].isnull().sum()\n",
        "print('{} rows in nydf ({} NaN in year, {} NaN in newyork)'.format(nydf['year'].size, yearnullcount,nynullcount))"
      ],
      "execution_count": 0,
      "outputs": [
        {
          "output_type": "stream",
          "text": [
            "266 rows in worlddf (0 NaN in year, 0 NaN in world)\n",
            "271 rows in nydf (0 NaN in year, 5 NaN in newyork)\n"
          ],
          "name": "stdout"
        }
      ]
    },
    {
      "cell_type": "markdown",
      "metadata": {
        "id": "jPiVfYhiSw1q",
        "colab_type": "text"
      },
      "source": [
        "#1. Missing Data Analysis\n",
        "1a. Missing Records\n",
        "\n",
        "1b. Missing Data\n",
        "\n",
        "*   Type Checking\n",
        "*   Indices\n",
        "\n",
        "1c. Discrepancies by Column"
      ]
    },
    {
      "cell_type": "code",
      "metadata": {
        "id": "Slmi7nMforni",
        "colab_type": "code",
        "outputId": "006e8fe6-0cdc-41e8-a395-d38d25a74058",
        "colab": {
          "base_uri": "https://localhost:8080/",
          "height": 106
        }
      },
      "source": [
        "nyyears = [nydf['year'].min(),nydf['year'].max()]\n",
        "nyyearslist =  [i for i in range(nyyears[0],nyyears[1])]\n",
        "worldyears = [worlddf['year'].min(),worlddf['year'].max()]\n",
        "worldyearslist =  [i for i in range(worldyears[0],worldyears[1])]\n",
        "worlddf_missing = set(worldyearslist)-set(worlddf['year'])\n",
        "nydf_missing = set(nyyearslist)-set(nydf['year'])\n",
        "print('{} Missing Records in worlddf'.format(len(worlddf_missing)))\n",
        "print('{} Missing Records in nydf'.format(len(nydf_missing)))\n",
        "nynull = nydf[nydf.isnull().any(axis=1)] ##\n",
        "nynullindex = nynull.index.tolist() \n",
        "print('{} {} NaNs at {} in nydf'.format(nynullcount, type(nynull['newyork'].tolist()[0]),nynullindex))\n",
        "print('Discrepancies from nydf to worlddf: {}'.format(set(nyyearslist)-set(worldyearslist)))\n",
        "print('Discrepancies from worlddf to nydf: {}'.format(set(worldyearslist)-set(nyyearslist)))"
      ],
      "execution_count": 0,
      "outputs": [
        {
          "output_type": "stream",
          "text": [
            "0 Missing Records in worlddf\n",
            "0 Missing Records in nydf\n",
            "5 <class 'float'> NaNs at [4, 5, 6, 7, 38] in nydf\n",
            "Discrepancies from nydf to worlddf: {1743, 1744, 1745, 1746, 1747, 1748, 1749}\n",
            "Discrepancies from worlddf to nydf: {2013, 2014}\n"
          ],
          "name": "stdout"
        }
      ]
    },
    {
      "cell_type": "markdown",
      "metadata": {
        "id": "XSPszwhGFZYh",
        "colab_type": "text"
      },
      "source": [
        "**2. Data Transformation**\n"
      ]
    },
    {
      "cell_type": "markdown",
      "metadata": {
        "id": "TUV06Ms7Sz7j",
        "colab_type": "text"
      },
      "source": [
        "2a. Remove Duplicates\n",
        "\n",
        "2b. Outlier Analysis\n"
      ]
    },
    {
      "cell_type": "code",
      "metadata": {
        "id": "7fdGcVg9Jcfh",
        "colab_type": "code",
        "outputId": "cdf3a870-ae7d-4a6f-c1a6-61a97e51d9d6",
        "colab": {
          "base_uri": "https://localhost:8080/",
          "height": 52
        }
      },
      "source": [
        ""
      ],
      "execution_count": 0,
      "outputs": [
        {
          "output_type": "stream",
          "text": [
            "5 NaNs in nydf at [4, 5, 6, 7, 38]\n"
          ],
          "name": "stdout"
        },
        {
          "output_type": "execute_result",
          "data": {
            "text/plain": [
              "float"
            ]
          },
          "metadata": {
            "tags": []
          },
          "execution_count": 4
        }
      ]
    },
    {
      "cell_type": "markdown",
      "metadata": {
        "id": "p5TaQ87fFxmv",
        "colab_type": "text"
      },
      "source": [
        "**3. Missing Data Handling**"
      ]
    },
    {
      "cell_type": "markdown",
      "metadata": {
        "id": "dyZEdXGjYwB8",
        "colab_type": "text"
      },
      "source": [
        "3a. Drop Missing Data\n",
        "\n",
        "3b. Impute Missing Data\n"
      ]
    },
    {
      "cell_type": "code",
      "metadata": {
        "id": "RoJl05vkY0Aw",
        "colab_type": "code",
        "colab": {}
      },
      "source": [
        ""
      ],
      "execution_count": 0,
      "outputs": []
    },
    {
      "cell_type": "markdown",
      "metadata": {
        "id": "R5OtO83wS2TU",
        "colab_type": "text"
      },
      "source": [
        "**4. Moving Average Model**"
      ]
    },
    {
      "cell_type": "code",
      "metadata": {
        "id": "Qi6rkFy9xlrn",
        "colab_type": "code",
        "colab": {}
      },
      "source": [
        "def movingaveragelist(window,time,data):\n",
        "    time_list = time.tolist()\n",
        "    data_list = data.tolist()\n",
        "    listlength = len(time)-window\n",
        "    movingaverage_list = []\n",
        "    for i in listlength:\n",
        "      window_list = data_list[i:i+window].dropna() \n",
        "      movingaverage_list= movingaverage_list.append(sum(templist)/len(templist))\n",
        "    return movingaverage_list"
      ],
      "execution_count": 0,
      "outputs": []
    },
    {
      "cell_type": "markdown",
      "metadata": {
        "id": "DrCTaQKBS87V",
        "colab_type": "text"
      },
      "source": [
        "**5. Line Chart**"
      ]
    },
    {
      "cell_type": "code",
      "metadata": {
        "id": "TlL8Go1oIpXz",
        "colab_type": "code",
        "colab": {}
      },
      "source": [
        "# plotting\n",
        "startyear = min(nyyears+worldyears)\n",
        "endyear = max(nyyears+worldyears)"
      ],
      "execution_count": 0,
      "outputs": []
    }
  ]
}