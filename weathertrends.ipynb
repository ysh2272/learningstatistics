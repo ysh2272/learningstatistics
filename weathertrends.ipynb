{
  "nbformat": 4,
  "nbformat_minor": 0,
  "metadata": {
    "colab": {
      "name": "weathertrends.ipynb",
      "provenance": [],
      "authorship_tag": "ABX9TyMkKUnLU4zaViRSG7AjKVsr",
      "include_colab_link": true
    },
    "kernelspec": {
      "name": "python3",
      "display_name": "Python 3"
    }
  },
  "cells": [
    {
      "cell_type": "markdown",
      "metadata": {
        "id": "view-in-github",
        "colab_type": "text"
      },
      "source": [
        "<a href=\"https://colab.research.google.com/github/ysh2272/learningstatistics/blob/master/weathertrends.ipynb\" target=\"_parent\"><img src=\"https://colab.research.google.com/assets/colab-badge.svg\" alt=\"Open In Colab\"/></a>"
      ]
    },
    {
      "cell_type": "code",
      "metadata": {
        "id": "riHOx8MiLvxb",
        "colab_type": "code",
        "colab": {
          "base_uri": "https://localhost:8080/",
          "height": 197
        },
        "outputId": "811bf497-de88-4679-81a7-468f94ec1d6b"
      },
      "source": [
        "import numpy as np\n",
        "import pandas as pd\n",
        "import matplotlib.pyplot as plt\n",
        "\n",
        "globalurl = 'https://raw.githubusercontent.com/ysh2272/learningstatistics/master/global.csv'\n",
        "newyorkurl = 'https://raw.githubusercontent.com/ysh2272/learningstatistics/master/newyork.csv'\n",
        "col_names = ['year','avg_temp']\n",
        "\n",
        "globaldf = pd.read_csv(globalurl, names = col_names)\n",
        "#globaldf.head(): has extra row for column names\n",
        "globaldf = globaldf.iloc[1:]\n",
        "globaldf.head()\n",
        "#globaldf.dtypes: all columns are objects, not number data types\n",
        "globaldf['year'] = globaldf['year'].astype(int)\n",
        "globaldf['avg_temp'] = globaldf['avg_temp'].astype(float)\n",
        "globaldf.dtypes\n",
        "newyorkdf = pd.read_csv(newyorkurl, names = col_names)\n",
        "newyorkdf = newyorkdf.iloc[1:]\n",
        "newyorkdf['year'] = newyorkdf['year'].astype(int)\n",
        "newyorkdf['avg_temp'] = globaldf['avg_temp'].astype(float)\n",
        "innerjoin = pd.merge(newyorkdf, globaldf, how='inner', on = 'year')\n",
        "innerjoin.head()\n",
        "finaldf = innerjoin.rename(columns = {'avg_temp_x':'New York','avg_temp_y':'Global'}) \n",
        "finaldf.head()"
      ],
      "execution_count": 12,
      "outputs": [
        {
          "output_type": "execute_result",
          "data": {
            "text/html": [
              "<div>\n",
              "<style scoped>\n",
              "    .dataframe tbody tr th:only-of-type {\n",
              "        vertical-align: middle;\n",
              "    }\n",
              "\n",
              "    .dataframe tbody tr th {\n",
              "        vertical-align: top;\n",
              "    }\n",
              "\n",
              "    .dataframe thead th {\n",
              "        text-align: right;\n",
              "    }\n",
              "</style>\n",
              "<table border=\"1\" class=\"dataframe\">\n",
              "  <thead>\n",
              "    <tr style=\"text-align: right;\">\n",
              "      <th></th>\n",
              "      <th>year</th>\n",
              "      <th>New York</th>\n",
              "      <th>Global</th>\n",
              "    </tr>\n",
              "  </thead>\n",
              "  <tbody>\n",
              "    <tr>\n",
              "      <th>0</th>\n",
              "      <td>1750</td>\n",
              "      <td>9.02</td>\n",
              "      <td>8.72</td>\n",
              "    </tr>\n",
              "    <tr>\n",
              "      <th>1</th>\n",
              "      <td>1751</td>\n",
              "      <td>6.74</td>\n",
              "      <td>7.98</td>\n",
              "    </tr>\n",
              "    <tr>\n",
              "      <th>2</th>\n",
              "      <td>1752</td>\n",
              "      <td>7.99</td>\n",
              "      <td>5.78</td>\n",
              "    </tr>\n",
              "    <tr>\n",
              "      <th>3</th>\n",
              "      <td>1753</td>\n",
              "      <td>7.19</td>\n",
              "      <td>8.39</td>\n",
              "    </tr>\n",
              "    <tr>\n",
              "      <th>4</th>\n",
              "      <td>1754</td>\n",
              "      <td>8.77</td>\n",
              "      <td>8.47</td>\n",
              "    </tr>\n",
              "  </tbody>\n",
              "</table>\n",
              "</div>"
            ],
            "text/plain": [
              "   year  New York  Global\n",
              "0  1750      9.02    8.72\n",
              "1  1751      6.74    7.98\n",
              "2  1752      7.99    5.78\n",
              "3  1753      7.19    8.39\n",
              "4  1754      8.77    8.47"
            ]
          },
          "metadata": {
            "tags": []
          },
          "execution_count": 12
        }
      ]
    },
    {
      "cell_type": "code",
      "metadata": {
        "id": "EzM_U3rSi4FB",
        "colab_type": "code",
        "colab": {
          "base_uri": "https://localhost:8080/",
          "height": 197
        },
        "outputId": "f72f43bf-4b89-4552-b299-f78b401d11af"
      },
      "source": [
        ""
      ],
      "execution_count": 9,
      "outputs": [
        {
          "output_type": "execute_result",
          "data": {
            "text/html": [
              "<div>\n",
              "<style scoped>\n",
              "    .dataframe tbody tr th:only-of-type {\n",
              "        vertical-align: middle;\n",
              "    }\n",
              "\n",
              "    .dataframe tbody tr th {\n",
              "        vertical-align: top;\n",
              "    }\n",
              "\n",
              "    .dataframe thead th {\n",
              "        text-align: right;\n",
              "    }\n",
              "</style>\n",
              "<table border=\"1\" class=\"dataframe\">\n",
              "  <thead>\n",
              "    <tr style=\"text-align: right;\">\n",
              "      <th></th>\n",
              "      <th>year</th>\n",
              "      <th>avg_temp_x</th>\n",
              "      <th>avg_temp_y</th>\n",
              "    </tr>\n",
              "  </thead>\n",
              "  <tbody>\n",
              "    <tr>\n",
              "      <th>0</th>\n",
              "      <td>1750</td>\n",
              "      <td>9.02</td>\n",
              "      <td>8.72</td>\n",
              "    </tr>\n",
              "    <tr>\n",
              "      <th>1</th>\n",
              "      <td>1751</td>\n",
              "      <td>6.74</td>\n",
              "      <td>7.98</td>\n",
              "    </tr>\n",
              "    <tr>\n",
              "      <th>2</th>\n",
              "      <td>1752</td>\n",
              "      <td>7.99</td>\n",
              "      <td>5.78</td>\n",
              "    </tr>\n",
              "    <tr>\n",
              "      <th>3</th>\n",
              "      <td>1753</td>\n",
              "      <td>7.19</td>\n",
              "      <td>8.39</td>\n",
              "    </tr>\n",
              "    <tr>\n",
              "      <th>4</th>\n",
              "      <td>1754</td>\n",
              "      <td>8.77</td>\n",
              "      <td>8.47</td>\n",
              "    </tr>\n",
              "  </tbody>\n",
              "</table>\n",
              "</div>"
            ],
            "text/plain": [
              "   year  avg_temp_x  avg_temp_y\n",
              "0  1750        9.02        8.72\n",
              "1  1751        6.74        7.98\n",
              "2  1752        7.99        5.78\n",
              "3  1753        7.19        8.39\n",
              "4  1754        8.77        8.47"
            ]
          },
          "metadata": {
            "tags": []
          },
          "execution_count": 9
        }
      ]
    },
    {
      "cell_type": "code",
      "metadata": {
        "id": "zisG-c4shd7X",
        "colab_type": "code",
        "colab": {}
      },
      "source": [
        "\n",
        "\n",
        "globaldf['avg_temp'].describe()\n",
        "\n",
        "\n",
        "plt.plot(years,global_temp,'o')\n",
        "ax = plt.gca()\n",
        "ax.set_yticks()"
      ],
      "execution_count": 0,
      "outputs": []
    }
  ]
}