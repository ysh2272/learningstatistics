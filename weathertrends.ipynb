{
  "nbformat": 4,
  "nbformat_minor": 0,
  "metadata": {
    "colab": {
      "name": "weathertrends.ipynb",
      "provenance": [],
      "collapsed_sections": [],
      "authorship_tag": "ABX9TyNOrXOZECDhQ6JVt4mlK4FF",
      "include_colab_link": true
    },
    "kernelspec": {
      "name": "python3",
      "display_name": "Python 3"
    }
  },
  "cells": [
    {
      "cell_type": "markdown",
      "metadata": {
        "id": "view-in-github",
        "colab_type": "text"
      },
      "source": [
        "<a href=\"https://colab.research.google.com/github/ysh2272/learningstatistics/blob/master/weathertrends.ipynb\" target=\"_parent\"><img src=\"https://colab.research.google.com/assets/colab-badge.svg\" alt=\"Open In Colab\"/></a>"
      ]
    },
    {
      "cell_type": "markdown",
      "metadata": {
        "id": "1yNecCgi-_TY",
        "colab_type": "text"
      },
      "source": [
        "#1. Data Wrangling\n",
        "1a. Import Data from GitHub\n",
        "\n",
        "1b. Check and Correct Type\n",
        "\n",
        "1c. Set Key Column\n",
        "\n",
        "1d. Count Rows and Missing Data\n"
      ]
    },
    {
      "cell_type": "code",
      "metadata": {
        "id": "riHOx8MiLvxb",
        "colab_type": "code",
        "outputId": "62acda47-0607-4baa-e160-a7a7c2fef1ba",
        "colab": {
          "base_uri": "https://localhost:8080/",
          "height": 52
        }
      },
      "source": [
        "import numpy as np\n",
        "import pandas as pd\n",
        "import matplotlib.pyplot as plt\n",
        "\n",
        "worldurl = 'https://raw.githubusercontent.com/ysh2272/learningstatistics/master/global.csv'\n",
        "worlddf = pd.read_csv(worldurl, names = ['year','world']) ## column names for error\n",
        "# worlddf.head()\n",
        "# extra column names in first row\n",
        "\n",
        "worlddf = worlddf.iloc[1:] ## index-based splicing\n",
        "# worlddf.dtypes\n",
        "# incorrect data type (object)\n",
        "\n",
        "worlddf.set_index('year')\n",
        "worlddf['year'] = worlddf['year'].astype(int) \n",
        "worlddf['world'] = worlddf['world'].astype(float)\n",
        "yearnullcount = worlddf['year'].isnull().sum() ## null counter\n",
        "worldnullcount = worlddf['world'].isnull().sum()\n",
        "print('{} rows in worlddf ({} NaN in year, {} NaN in world)'.format(worlddf['year'].size, yearnullcount, worldnullcount))\n",
        "\n",
        "nyurl = 'https://raw.githubusercontent.com/ysh2272/learningstatistics/master/newyork.csv'\n",
        "nydf = pd.read_csv(nyurl, names = ['year','newyork']).iloc[1:]\n",
        "nydf.set_index('year')\n",
        "nydf['year'] = nydf['year'].astype(int)\n",
        "nydf['newyork'] = nydf['newyork'].astype(float)\n",
        "yearnullcount = nydf['year'].isnull().sum()\n",
        "nynullcount = nydf['newyork'].isnull().sum()\n",
        "print('{} rows in nydf ({} NaN in year, {} NaN in newyork)'.format(nydf['year'].size, yearnullcount,nynullcount))"
      ],
      "execution_count": 1,
      "outputs": [
        {
          "output_type": "stream",
          "text": [
            "266 rows in worlddf (0 NaN in year, 0 NaN in world)\n",
            "271 rows in nydf (0 NaN in year, 5 NaN in newyork)\n"
          ],
          "name": "stdout"
        }
      ]
    },
    {
      "cell_type": "markdown",
      "metadata": {
        "id": "jPiVfYhiSw1q",
        "colab_type": "text"
      },
      "source": [
        "1e. Check Records\n",
        "\n",
        "1f. Outer JOIN\n"
      ]
    },
    {
      "cell_type": "code",
      "metadata": {
        "id": "Slmi7nMforni",
        "colab_type": "code",
        "outputId": "6399701c-e908-4c01-b93a-7685779e0804",
        "colab": {
          "base_uri": "https://localhost:8080/",
          "height": 88
        }
      },
      "source": [
        "newyork = nydf['year']\n",
        "world = worlddf['year']\n",
        "\n",
        "nyyears =  [i for i in range(newyork.min(),newyork.max())]\n",
        "worldyears =  [i for i in range(world.min(),world.max())]\n",
        "worldmissing = set(worldyears)-set(world)\n",
        "nymissing = set(nyyears)-set(newyork)\n",
        "print('Missing Records ({} in worlddf, {} in nydf)'.format(len(worldmissing),len(nymissing)))\n",
        "\n",
        "nyduplicate = newyork.duplicated()\n",
        "worldduplicate = world.duplicated()\n",
        "print('Duplicate Records ({} in worlddf, {} in nydf)'.format(sum(worldduplicate),sum(nyduplicate)))\n",
        "\n",
        "ny_world = set(nyyears)-set(worldyears)\n",
        "print('nydf has {} more than worlddf: {}'.format(len(ny_world),ny_world))\n",
        "world_ny = set(worldyears)-set(nyyears)\n",
        "print('worlddf has {} more than nydf: {}'.format(len(world_ny),world_ny))\n",
        "\n",
        "# outerdf = nydf.merge(worlddf, how='outer', on='year') \n",
        "# merge gets rid of year, use join instead\n"
      ],
      "execution_count": 2,
      "outputs": [
        {
          "output_type": "stream",
          "text": [
            "Missing Records (0 in worlddf, 0 in nydf)\n",
            "Duplicate Records (0 in worlddf, 0 in nydf)\n",
            "nydf has 7 more than worlddf: {1743, 1744, 1745, 1746, 1747, 1748, 1749}\n",
            "worlddf has 2 more than nydf: {2013, 2014}\n"
          ],
          "name": "stdout"
        }
      ]
    },
    {
      "cell_type": "markdown",
      "metadata": {
        "id": "wcP3iV5QpZxC",
        "colab_type": "text"
      },
      "source": [
        "#2. Missing Data Handling\n",
        "\n",
        "2a. Location\n",
        "\n",
        "* Indices\n",
        "* Type Checking\n",
        "\n",
        "2b. Deletion\n",
        "\n",
        "* Listwise\n",
        "* Pairwise"
      ]
    },
    {
      "cell_type": "code",
      "metadata": {
        "id": "7fdGcVg9Jcfh",
        "colab_type": "code",
        "outputId": "4bcb4ea7-b8d2-4867-f73e-0357c53d8937",
        "colab": {
          "base_uri": "https://localhost:8080/",
          "height": 260
        }
      },
      "source": [
        "newyork = outerdf['newyork']\n",
        "world = outerdf['world']\n",
        "\n",
        "nynull = newyork[newyork.isnull()]\n",
        "print('{} {} NaNs at {} in nydf'.format(len(nynull),type(nynull.iloc[0]),nynull.index.to_list()))\n",
        "worldnull = world[world.isnull()]\n",
        "print('{} {} NaNs at {} in worlddf'.format(len(worldnull),type(worldnull.iloc[0]),worldnull.index.to_list()))\n",
        "\n",
        "listwise = outerdf.drop([0, 1, 2, 3, 4, 5, 6])\n",
        "pairwise = listwise['newyork'].drop([271, 272])\n",
        "\n",
        "nynullcheck = pairwise[pairwise.isnull()]\n",
        "worldnullcheck = listwise['world'][listwise['world'].isnull()]\n",
        "print('{} NaNs in nydf, {} NaNs in worlddf'.format(len(nynullcheck),len(worldnullcheck)))"
      ],
      "execution_count": 0,
      "outputs": [
        {
          "output_type": "error",
          "ename": "NameError",
          "evalue": "ignored",
          "traceback": [
            "\u001b[0;31m---------------------------------------------------------------------------\u001b[0m",
            "\u001b[0;31mNameError\u001b[0m                                 Traceback (most recent call last)",
            "\u001b[0;32m<ipython-input-4-5044c8e72046>\u001b[0m in \u001b[0;36m<module>\u001b[0;34m()\u001b[0m\n\u001b[0;32m----> 1\u001b[0;31m \u001b[0mnewyork\u001b[0m \u001b[0;34m=\u001b[0m \u001b[0mouterdf\u001b[0m\u001b[0;34m[\u001b[0m\u001b[0;34m'newyork'\u001b[0m\u001b[0;34m]\u001b[0m\u001b[0;34m\u001b[0m\u001b[0;34m\u001b[0m\u001b[0m\n\u001b[0m\u001b[1;32m      2\u001b[0m \u001b[0mworld\u001b[0m \u001b[0;34m=\u001b[0m \u001b[0mouterdf\u001b[0m\u001b[0;34m[\u001b[0m\u001b[0;34m'world'\u001b[0m\u001b[0;34m]\u001b[0m\u001b[0;34m\u001b[0m\u001b[0;34m\u001b[0m\u001b[0m\n\u001b[1;32m      3\u001b[0m \u001b[0;34m\u001b[0m\u001b[0m\n\u001b[1;32m      4\u001b[0m \u001b[0mnynull\u001b[0m \u001b[0;34m=\u001b[0m \u001b[0mnewyork\u001b[0m\u001b[0;34m[\u001b[0m\u001b[0mnewyork\u001b[0m\u001b[0;34m.\u001b[0m\u001b[0misnull\u001b[0m\u001b[0;34m(\u001b[0m\u001b[0;34m)\u001b[0m\u001b[0;34m]\u001b[0m\u001b[0;34m\u001b[0m\u001b[0;34m\u001b[0m\u001b[0m\n\u001b[1;32m      5\u001b[0m \u001b[0mprint\u001b[0m\u001b[0;34m(\u001b[0m\u001b[0;34m'{} {} NaNs at {} in nydf'\u001b[0m\u001b[0;34m.\u001b[0m\u001b[0mformat\u001b[0m\u001b[0;34m(\u001b[0m\u001b[0mlen\u001b[0m\u001b[0;34m(\u001b[0m\u001b[0mnynull\u001b[0m\u001b[0;34m)\u001b[0m\u001b[0;34m,\u001b[0m\u001b[0mtype\u001b[0m\u001b[0;34m(\u001b[0m\u001b[0mnynull\u001b[0m\u001b[0;34m.\u001b[0m\u001b[0miloc\u001b[0m\u001b[0;34m[\u001b[0m\u001b[0;36m0\u001b[0m\u001b[0;34m]\u001b[0m\u001b[0;34m)\u001b[0m\u001b[0;34m,\u001b[0m\u001b[0mnynull\u001b[0m\u001b[0;34m.\u001b[0m\u001b[0mindex\u001b[0m\u001b[0;34m.\u001b[0m\u001b[0mto_list\u001b[0m\u001b[0;34m(\u001b[0m\u001b[0;34m)\u001b[0m\u001b[0;34m)\u001b[0m\u001b[0;34m)\u001b[0m\u001b[0;34m\u001b[0m\u001b[0;34m\u001b[0m\u001b[0m\n",
            "\u001b[0;31mNameError\u001b[0m: name 'outerdf' is not defined"
          ]
        }
      ]
    },
    {
      "cell_type": "markdown",
      "metadata": {
        "id": "R5OtO83wS2TU",
        "colab_type": "text"
      },
      "source": [
        "#3. Exploratory Data Analysis\n",
        "\n",
        "3a. Outlier Handling \n",
        "- Distribution\n",
        "- Location"
      ]
    },
    {
      "cell_type": "code",
      "metadata": {
        "id": "C5fq4UmLiaaE",
        "colab_type": "code",
        "outputId": "ead3a1b0-b1b2-4fd0-d35f-8bdb599a5aca",
        "colab": {
          "base_uri": "https://localhost:8080/",
          "height": 230
        }
      },
      "source": [
        "newyork = pairwise\n",
        "world = listwise['world']\n",
        "\n",
        "print(world.head())\n",
        "print(newyork.head())"
      ],
      "execution_count": 0,
      "outputs": [
        {
          "output_type": "stream",
          "text": [
            "7     8.72\n",
            "8     7.98\n",
            "9     5.78\n",
            "10    8.39\n",
            "11    8.47\n",
            "Name: world, dtype: float64\n",
            "7     10.07\n",
            "8     10.79\n",
            "9      2.81\n",
            "10     9.52\n",
            "11     9.88\n",
            "Name: newyork, dtype: float64\n"
          ],
          "name": "stdout"
        }
      ]
    }
  ]
}