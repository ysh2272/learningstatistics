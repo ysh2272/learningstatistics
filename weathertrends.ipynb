{
  "nbformat": 4,
  "nbformat_minor": 0,
  "metadata": {
    "colab": {
      "name": "weathertrends.ipynb",
      "provenance": [],
      "authorship_tag": "ABX9TyPKrCZQ5xBh/tnhv0CB0UR9",
      "include_colab_link": true
    },
    "kernelspec": {
      "name": "python3",
      "display_name": "Python 3"
    }
  },
  "cells": [
    {
      "cell_type": "markdown",
      "metadata": {
        "id": "view-in-github",
        "colab_type": "text"
      },
      "source": [
        "<a href=\"https://colab.research.google.com/github/ysh2272/learningstatistics/blob/master/weathertrends.ipynb\" target=\"_parent\"><img src=\"https://colab.research.google.com/assets/colab-badge.svg\" alt=\"Open In Colab\"/></a>"
      ]
    },
    {
      "cell_type": "code",
      "metadata": {
        "id": "riHOx8MiLvxb",
        "colab_type": "code",
        "colab": {}
      },
      "source": [
        "import numpy as np\n",
        "import pandas as pd\n",
        "import matplotlib.pyplot as plt\n",
        "\n",
        "globalurl = 'https://raw.githubusercontent.com/ysh2272/learningstatistics/master/global.csv'\n",
        "newyorkurl = 'https://raw.githubusercontent.com/ysh2272/learningstatistics/master/newyork.csv'\n",
        "col_names = ['year','avg_temp']\n",
        "\n",
        "globaldf = pd.read_csv(globalurl, names = col_names)\n",
        "#globaldf.head(): has extra row for column names\n",
        "globaldf = globaldf.iloc[1:]\n",
        "globaldf.head()\n",
        "#globaldf.dtypes: all columns are objects, not number data types\n",
        "globaldf['year'] = globaldf['year'].astype(int)\n",
        "globaldf['avg_temp'] = globaldf['avg_temp'].astype(float)\n",
        "globaldf.dtypes\n",
        "newyorkdf = pd.read_csv(newyorkurl, names = col_names)\n",
        "newyorkdf = newyorkdf.iloc[1:]\n",
        "newyorkdf['avg_temp'] = globaldf['avg_temp'].astype(int)\n",
        "\n"
      ],
      "execution_count": 0,
      "outputs": []
    },
    {
      "cell_type": "code",
      "metadata": {
        "id": "zisG-c4shd7X",
        "colab_type": "code",
        "colab": {}
      },
      "source": [
        "\n",
        "# Concatenate Dataframes using Keys\n",
        "globaldf['avg_temp'].describe()\n",
        "\n",
        "\n",
        "newyork_temp = newyorkdf.avg_temp.to_list()\n",
        "del newyork_temp[0]\n",
        "\n",
        "plt.plot(years,global_temp,'o')\n",
        "ax = plt.gca()\n",
        "ax.set_yticks()"
      ],
      "execution_count": 0,
      "outputs": []
    }
  ]
}